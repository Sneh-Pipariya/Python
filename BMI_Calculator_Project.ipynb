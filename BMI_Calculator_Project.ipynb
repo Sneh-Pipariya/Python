{
 "cells": [
  {
   "cell_type": "code",
   "execution_count": null,
   "id": "cde3d5ca-5623-4930-8090-ebb5fd4bdc1f",
   "metadata": {},
   "outputs": [],
   "source": [
    "# BMI Calculator"
   ]
  },
  {
   "cell_type": "code",
   "execution_count": 24,
   "id": "5f25b6db-3546-4883-997d-f313e521c6f4",
   "metadata": {},
   "outputs": [
    {
     "name": "stdin",
     "output_type": "stream",
     "text": [
      "Enter your name:  sneh\n",
      "Enter your weight in pounds:  147\n",
      "Enter your height in inches:  69\n"
     ]
    },
    {
     "ename": "TypeError",
     "evalue": "can only concatenate str (not \"float\") to str",
     "output_type": "error",
     "traceback": [
      "\u001b[0;31m---------------------------------------------------------------------------\u001b[0m",
      "\u001b[0;31mTypeError\u001b[0m                                 Traceback (most recent call last)",
      "Cell \u001b[0;32mIn[24], line 5\u001b[0m\n\u001b[1;32m      3\u001b[0m Height \u001b[38;5;241m=\u001b[39m \u001b[38;5;28mint\u001b[39m(\u001b[38;5;28minput\u001b[39m(\u001b[38;5;124m\"\u001b[39m\u001b[38;5;124mEnter your height in inches: \u001b[39m\u001b[38;5;124m\"\u001b[39m))\n\u001b[1;32m      4\u001b[0m BMI \u001b[38;5;241m=\u001b[39m ( Weight \u001b[38;5;241m*\u001b[39m \u001b[38;5;241m703\u001b[39m ) \u001b[38;5;241m/\u001b[39m ( Height \u001b[38;5;241m*\u001b[39m Height )\n\u001b[0;32m----> 5\u001b[0m \u001b[38;5;28mprint\u001b[39m(\u001b[38;5;124m\"\u001b[39m\u001b[38;5;124mBMI is \u001b[39m\u001b[38;5;124m\"\u001b[39m\u001b[38;5;241m+\u001b[39mBMI)\n\u001b[1;32m      7\u001b[0m \u001b[38;5;28;01mif\u001b[39;00m BMI\u001b[38;5;241m>\u001b[39m\u001b[38;5;241m0\u001b[39m:\n\u001b[1;32m      8\u001b[0m     \u001b[38;5;28;01mif\u001b[39;00m (BMI\u001b[38;5;241m<\u001b[39m\u001b[38;5;241m18.5\u001b[39m):\n",
      "\u001b[0;31mTypeError\u001b[0m: can only concatenate str (not \"float\") to str"
     ]
    }
   ],
   "source": [
    "Name = input(\"Enter your name: \")\n",
    "\n",
    "Weight = int(input(\"Enter your weight in pounds: \"))\n",
    "\n",
    "Height = int(input(\"Enter your height in inches: \"))\n",
    "\n",
    "BMI = ( Weight * 703 ) / ( Height * Height )\n",
    "\n",
    "print(BMI)\n",
    "\n",
    "if BMI>0:\n",
    "    if (BMI<18.5):\n",
    "        print(Name + \", you are underweight.\")\n",
    "    elif (BMI<=24.9):\n",
    "        print(Name + \", you are normal weight.\")\n",
    "    elif (BMI<29.9):\n",
    "        print(Name + \", you are overweight.\")\n",
    "    elif (BMI<34.9):\n",
    "        print(Name + \", you are obese.\")\n",
    "    elif (BMI<39.9):\n",
    "        print(Name + \", you are severely obese.\")\n",
    "    else:\n",
    "        print(Name + \", you are morbidly obese.\")\n",
    "else:\n",
    "    print(\"Enter valid input\")"
   ]
  },
  {
   "cell_type": "code",
   "execution_count": 22,
   "id": "608b5789-e4c1-4d34-80e8-8ee386d8bd1c",
   "metadata": {},
   "outputs": [
    {
     "name": "stdout",
     "output_type": "stream",
     "text": [
      "Sneh, you are normal weight.\n"
     ]
    }
   ],
   "source": []
  },
  {
   "cell_type": "code",
   "execution_count": null,
   "id": "c27ce4cb-34b4-432a-ac28-8f89328f5c09",
   "metadata": {},
   "outputs": [],
   "source": []
  }
 ],
 "metadata": {
  "kernelspec": {
   "display_name": "Python 3 (ipykernel)",
   "language": "python",
   "name": "python3"
  },
  "language_info": {
   "codemirror_mode": {
    "name": "ipython",
    "version": 3
   },
   "file_extension": ".py",
   "mimetype": "text/x-python",
   "name": "python",
   "nbconvert_exporter": "python",
   "pygments_lexer": "ipython3",
   "version": "3.12.4"
  }
 },
 "nbformat": 4,
 "nbformat_minor": 5
}
