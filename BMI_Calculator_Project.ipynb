{
 "cells": [
  {
   "cell_type": "code",
   "execution_count": null,
   "id": "cde3d5ca-5623-4930-8090-ebb5fd4bdc1f",
   "metadata": {},
   "outputs": [],
   "source": [
    "# BMI Calculator"
   ]
  },
  {
   "cell_type": "code",
   "execution_count": 26,
   "id": "5f25b6db-3546-4883-997d-f313e521c6f4",
   "metadata": {},
   "outputs": [
    {
     "name": "stdin",
     "output_type": "stream",
     "text": [
      "Enter your name:  Sneh\n",
      "Enter your weight in pounds:  147\n",
      "Enter your height in inches:  69\n"
     ]
    },
    {
     "name": "stdout",
     "output_type": "stream",
     "text": [
      "21.705734089477\n",
      "Sneh, you are normal weight.\n"
     ]
    }
   ],
   "source": [
    "Name = input(\"Enter your name: \")\n",
    "\n",
    "Weight = int(input(\"Enter your weight in pounds: \"))\n",
    "\n",
    "Height = int(input(\"Enter your height in inches: \"))\n",
    "\n",
    "BMI = ( Weight * 703 ) / ( Height * Height )\n",
    "\n",
    "print(BMI)\n",
    "\n",
    "if BMI>0:\n",
    "    if (BMI<18.5):\n",
    "        print(Name + \", you are underweight.\")\n",
    "    elif (BMI<=24.9):\n",
    "        print(Name + \", you are normal weight.\")\n",
    "    elif (BMI<29.9):\n",
    "        print(Name + \", you are overweight.\")\n",
    "    elif (BMI<34.9):\n",
    "        print(Name + \", you are obese.\")\n",
    "    elif (BMI<39.9):\n",
    "        print(Name + \", you are severely obese.\")\n",
    "    else:\n",
    "        print(Name + \", you are morbidly obese.\")\n",
    "else:\n",
    "    print(\"Enter valid input\")"
   ]
  }
 ],
 "metadata": {
  "kernelspec": {
   "display_name": "Python 3 (ipykernel)",
   "language": "python",
   "name": "python3"
  },
  "language_info": {
   "codemirror_mode": {
    "name": "ipython",
    "version": 3
   },
   "file_extension": ".py",
   "mimetype": "text/x-python",
   "name": "python",
   "nbconvert_exporter": "python",
   "pygments_lexer": "ipython3",
   "version": "3.12.4"
  }
 },
 "nbformat": 4,
 "nbformat_minor": 5
}
